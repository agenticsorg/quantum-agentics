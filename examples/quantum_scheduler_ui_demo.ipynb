{
 "cells": [
  {
   "cell_type": "markdown",
   "metadata": {},
   "source": [
    "# Quantum Scheduler UI Demo\n",
    "\n",
    "This notebook demonstrates the functionality of the Quantum Scheduler UI components."
   ]
  },
  {
   "cell_type": "code",
   "execution_count": null,
   "metadata": {},
   "outputs": [],
   "source": [
    "from qam.ui import QuantumSchedulerUI\n",
    "from datetime import datetime, timedelta\n",
    "\n",
    "# Create and display the UI\n",
    "ui = QuantumSchedulerUI()\n",
    "ui.display()"
   ]
  },
  {
   "cell_type": "markdown",
   "metadata": {},
   "source": [
    "## Monitoring Updates Example\n",
    "\n",
    "Demonstrate how to update the monitoring display"
   ]
  },
  {
   "cell_type": "code",
   "execution_count": null,
   "metadata": {},
   "outputs": [],
   "source": [
    "# Update monitoring status and progress\n",
    "ui.update_monitoring(\"Processing Tasks\", 30)\n",
    "\n",
    "# After some time...\n",
    "ui.update_monitoring(\"Optimization Complete\", 100)"
   ]
  },
  {
   "cell_type": "markdown",
   "metadata": {},
   "source": [
    "## Schedule Visualization Example\n",
    "\n",
    "Demonstrate how to visualize a schedule using the Gantt chart"
   ]
  },
  {
   "cell_type": "code",
   "execution_count": null,
   "metadata": {},
   "outputs": [],
   "source": [
    "# Create sample schedule data\n",
    "now = datetime.now()\n",
    "tasks = [\n",
    "    {\n",
    "        'name': 'Task 1',\n",
    "        'start': now,\n",
    "        'end': now + timedelta(hours=2),\n",
    "        'resource': 'Resource 1'\n",
    "    },\n",
    "    {\n",
    "        'name': 'Task 2',\n",
    "        'start': now + timedelta(hours=1),\n",
    "        'end': now + timedelta(hours=4),\n",
    "        'resource': 'Resource 2'\n",
    "    },\n",
    "    {\n",
    "        'name': 'Task 3',\n",
    "        'start': now + timedelta(hours=4),\n",
    "        'end': now + timedelta(hours=6),\n",
    "        'resource': 'Resource 1'\n",
    "    }\n",
    "]\n",
    "\n",
    "# Plot the schedule\n",
    "ui.plot_schedule(tasks)"
   ]
  },
  {
   "cell_type": "markdown",
   "metadata": {},
   "source": [
    "## Parameter Configuration Example\n",
    "\n",
    "Show how to access configured parameters"
   ]
  },
  {
   "cell_type": "code",
   "execution_count": null,
   "metadata": {},
   "outputs": [],
   "source": [
    "# Get current parameter values\n",
    "print(f\"Number of qubits: {ui.param_widgets['num_qubits'].value}\")\n",
    "print(f\"Solver type: {ui.param_widgets['solver_type'].value}\")\n",
    "print(f\"Optimization level: {ui.param_widgets['optimization_level'].value}\")"
   ]
  }
 ],
 "metadata": {
  "kernelspec": {
   "display_name": "Python 3",
   "language": "python",
   "name": "python3"
  },
  "language_info": {
   "codemirror_mode": {
    "name": "ipython",
    "version": 3
   },
   "file_extension": ".py",
   "mimetype": "text/x-python",
   "name": "python",
   "nbconvert_exporter": "python",
   "pygments_lexer": "ipython3",
   "version": "3.8.0"
  }
 },
 "nbformat": 4,
 "nbformat_minor": 4
}